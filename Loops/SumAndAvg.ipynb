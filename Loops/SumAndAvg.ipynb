{
 "cells": [
  {
   "cell_type": "code",
   "execution_count": 8,
   "metadata": {},
   "outputs": [
    {
     "name": "stdout",
     "output_type": "stream",
     "text": [
      "the sum is:  55\n",
      "the average is:  5.5\n"
     ]
    }
   ],
   "source": [
    "x = 1\n",
    "sum = 0\n",
    "target = 10\n",
    "while(x<=target):\n",
    "    sum = sum+x\n",
    "    x = x+1\n",
    "print(\"the sum is: \", sum)\n",
    "print(\"the average is: \", sum/target)"
   ]
  },
  {
   "cell_type": "code",
   "execution_count": null,
   "metadata": {},
   "outputs": [],
   "source": []
  }
 ],
 "metadata": {
  "kernelspec": {
   "display_name": "Python 3",
   "language": "python",
   "name": "python3"
  },
  "language_info": {
   "codemirror_mode": {
    "name": "ipython",
    "version": 3
   },
   "file_extension": ".py",
   "mimetype": "text/x-python",
   "name": "python",
   "nbconvert_exporter": "python",
   "pygments_lexer": "ipython3",
   "version": "3.12.0"
  }
 },
 "nbformat": 4,
 "nbformat_minor": 2
}
