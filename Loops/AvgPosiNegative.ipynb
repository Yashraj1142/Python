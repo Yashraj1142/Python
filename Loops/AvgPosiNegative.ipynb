{
 "cells": [
  {
   "cell_type": "code",
   "execution_count": 2,
   "metadata": {},
   "outputs": [
    {
     "name": "stdout",
     "output_type": "stream",
     "text": [
      "input:  5\n",
      "input:  7\n",
      "input:  4\n",
      "input:  8\n",
      "input:  -9\n",
      "input:  -7\n",
      "input:  -1\n",
      "Average of positive:  6.0\n",
      "Average of negatives:  -8.0\n"
     ]
    }
   ],
   "source": [
    "positive = 0\n",
    "negative = 0\n",
    "sumPos = 0\n",
    "sumNeg = 0\n",
    "\n",
    "while(1):\n",
    "    num = int(input(\"Enter the number: \"))\n",
    "    print(\"input: \", num)\n",
    "    if(num==-1):\n",
    "        break\n",
    "    elif(num>=0):\n",
    "        sumPos += num\n",
    "        positive += 1\n",
    "    else:\n",
    "        sumNeg += num\n",
    "        negative += 1\n",
    "\n",
    "print(\"Average of positive: \", sumPos/positive)\n",
    "print(\"Average of negatives: \", sumNeg/negative)"
   ]
  },
  {
   "cell_type": "code",
   "execution_count": null,
   "metadata": {},
   "outputs": [],
   "source": []
  }
 ],
 "metadata": {
  "kernelspec": {
   "display_name": "Python 3",
   "language": "python",
   "name": "python3"
  },
  "language_info": {
   "codemirror_mode": {
    "name": "ipython",
    "version": 3
   },
   "file_extension": ".py",
   "mimetype": "text/x-python",
   "name": "python",
   "nbconvert_exporter": "python",
   "pygments_lexer": "ipython3",
   "version": "3.12.0"
  }
 },
 "nbformat": 4,
 "nbformat_minor": 2
}
