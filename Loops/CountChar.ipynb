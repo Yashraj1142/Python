{
 "cells": [
  {
   "cell_type": "code",
   "execution_count": 2,
   "metadata": {},
   "outputs": [
    {
     "name": "stdout",
     "output_type": "stream",
     "text": [
      "Number of negatives:  4\n",
      "Number of positives:  3\n",
      "Number of zeros:  3\n"
     ]
    }
   ],
   "source": [
    "#count negatives, positives and zeros\n",
    "\n",
    "negative = 0\n",
    "positive = 0\n",
    "zero = 0\n",
    "\n",
    "while(1):\n",
    "    x = int(input(\"Enter the digit: \"))\n",
    "    if(x==-1):\n",
    "        break\n",
    "    elif(x<0):\n",
    "        negative+=1\n",
    "    elif(x>0):\n",
    "        positive+=1\n",
    "    else:\n",
    "        zero+=1\n",
    "\n",
    "print(\"Number of negatives: \", negative)\n",
    "print(\"Number of positives: \", positive)\n",
    "print(\"Number of zeros: \", zero)"
   ]
  },
  {
   "cell_type": "code",
   "execution_count": null,
   "metadata": {},
   "outputs": [],
   "source": []
  }
 ],
 "metadata": {
  "kernelspec": {
   "display_name": "Python 3",
   "language": "python",
   "name": "python3"
  },
  "language_info": {
   "codemirror_mode": {
    "name": "ipython",
    "version": 3
   },
   "file_extension": ".py",
   "mimetype": "text/x-python",
   "name": "python",
   "nbconvert_exporter": "python",
   "pygments_lexer": "ipython3",
   "version": "3.12.0"
  }
 },
 "nbformat": 4,
 "nbformat_minor": 2
}
