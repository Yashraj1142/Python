{
 "cells": [
  {
   "cell_type": "code",
   "execution_count": 3,
   "metadata": {},
   "outputs": [
    {
     "name": "stdout",
     "output_type": "stream",
     "text": [
      "Input numbers:  4 \t 1 \t 2\n",
      "4 is greatest among the three.\n"
     ]
    }
   ],
   "source": [
    "num1 = int(input(\"Enter num1: \"))\n",
    "num2 = int(input(\"Enter num2: \"))\n",
    "num3 = int(input(\"Enter num3: \"))\n",
    "\n",
    "print(\"Input numbers: \", num1, \"\\t\", num2, \"\\t\", num3)\n",
    "\n",
    "if((num1>num2) and (num1>num3)):\n",
    "    print(num1, \"is greatest among the three.\")\n",
    "elif(num2>num3):\n",
    "    print(num2, \"is greatest among the three.\")\n",
    "else:\n",
    "    print(num3, \"is greatest among the three.\")"
   ]
  },
  {
   "cell_type": "code",
   "execution_count": null,
   "metadata": {},
   "outputs": [],
   "source": []
  }
 ],
 "metadata": {
  "kernelspec": {
   "display_name": "Python 3",
   "language": "python",
   "name": "python3"
  },
  "language_info": {
   "codemirror_mode": {
    "name": "ipython",
    "version": 3
   },
   "file_extension": ".py",
   "mimetype": "text/x-python",
   "name": "python",
   "nbconvert_exporter": "python",
   "pygments_lexer": "ipython3",
   "version": "3.12.0"
  }
 },
 "nbformat": 4,
 "nbformat_minor": 2
}
