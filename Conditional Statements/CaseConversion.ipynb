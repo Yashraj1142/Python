{
 "cells": [
  {
   "cell_type": "code",
   "execution_count": 4,
   "metadata": {},
   "outputs": [
    {
     "name": "stdout",
     "output_type": "stream",
     "text": [
      "Original Case:  B\n",
      "Converted Case:  b\n"
     ]
    }
   ],
   "source": [
    "char = input(\"Enter a character: \")\n",
    "print(\"Original Case: \", char)\n",
    "if(char>='A' and char<='Z'):\n",
    "    char = char.lower()\n",
    "else:\n",
    "    char = char.upper()\n",
    "print(\"Converted Case: \", char)"
   ]
  },
  {
   "cell_type": "code",
   "execution_count": null,
   "metadata": {},
   "outputs": [],
   "source": []
  }
 ],
 "metadata": {
  "kernelspec": {
   "display_name": "Python 3",
   "language": "python",
   "name": "python3"
  },
  "language_info": {
   "codemirror_mode": {
    "name": "ipython",
    "version": 3
   },
   "file_extension": ".py",
   "mimetype": "text/x-python",
   "name": "python",
   "nbconvert_exporter": "python",
   "pygments_lexer": "ipython3",
   "version": "3.12.0"
  }
 },
 "nbformat": 4,
 "nbformat_minor": 2
}
