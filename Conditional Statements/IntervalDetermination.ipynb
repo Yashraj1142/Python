{
 "cells": [
  {
   "cell_type": "code",
   "execution_count": 1,
   "metadata": {},
   "outputs": [
    {
     "name": "stdout",
     "output_type": "stream",
     "text": [
      "25 lies between 21 and 30\n"
     ]
    }
   ],
   "source": [
    "num = int(input(\"Enter a number between 0 and 30: \"))\n",
    "if(num>=0 and num<=10):\n",
    "    print(num, \"lies between 0 and 10\")\n",
    "if(num>=11 and num<=20):\n",
    "    print(num, \"lies between 11 and 20\")\n",
    "if(num>=21 and num<=30):\n",
    "    print(num, \"lies between 21 and 30\")\n"
   ]
  },
  {
   "cell_type": "code",
   "execution_count": null,
   "metadata": {},
   "outputs": [],
   "source": []
  }
 ],
 "metadata": {
  "kernelspec": {
   "display_name": "Python 3",
   "language": "python",
   "name": "python3"
  },
  "language_info": {
   "codemirror_mode": {
    "name": "ipython",
    "version": 3
   },
   "file_extension": ".py",
   "mimetype": "text/x-python",
   "name": "python",
   "nbconvert_exporter": "python",
   "pygments_lexer": "ipython3",
   "version": "3.12.0"
  }
 },
 "nbformat": 4,
 "nbformat_minor": 2
}
