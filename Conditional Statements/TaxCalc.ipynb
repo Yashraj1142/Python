{
 "cells": [
  {
   "cell_type": "code",
   "execution_count": 2,
   "metadata": {},
   "outputs": [
    {
     "name": "stdout",
     "output_type": "stream",
     "text": [
      "Your income is:  400000\n",
      "20% tax.\n",
      "Net Payable Tax:  80000.0\n"
     ]
    }
   ],
   "source": [
    "# If income is less than 1,50, 000 then no tax\n",
    "# If taxable income is 1,50,001 300,000 then charge 10% tax\n",
    "# If taxable income is 3,00,001 500,000 then charge 20% tax\n",
    "# If taxable income is above 5,00,001 then charge 30% tax\n",
    "\n",
    "income = int(input(\"Enter the income: \"))\n",
    "print(\"Your income is: \", income)\n",
    "\n",
    "if(income<150000):\n",
    "    print(\"No tax.\\nNet Payable Tax: 0\")\n",
    "elif(income>150001 and income<300000):\n",
    "    print(\"10% tax.\\nNet Payable Tax\", 0.1*income)\n",
    "elif(income>300001 and income<500000):\n",
    "    print(\"20% tax.\\nNet Payable Tax: \", 0.2*income)\n",
    "else:\n",
    "    print(\"30% tax.\\nNet Payable Tax: \", 0.3*income)"
   ]
  },
  {
   "cell_type": "code",
   "execution_count": null,
   "metadata": {},
   "outputs": [],
   "source": []
  }
 ],
 "metadata": {
  "kernelspec": {
   "display_name": "Python 3",
   "language": "python",
   "name": "python3"
  },
  "language_info": {
   "codemirror_mode": {
    "name": "ipython",
    "version": 3
   },
   "file_extension": ".py",
   "mimetype": "text/x-python",
   "name": "python",
   "nbconvert_exporter": "python",
   "pygments_lexer": "ipython3",
   "version": "3.12.0"
  }
 },
 "nbformat": 4,
 "nbformat_minor": 2
}
