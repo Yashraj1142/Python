{
 "cells": [
  {
   "cell_type": "code",
   "execution_count": 4,
   "metadata": {},
   "outputs": [
    {
     "name": "stdout",
     "output_type": "stream",
     "text": [
      "Salary including Bonus:  5610.0\n"
     ]
    }
   ],
   "source": [
    "#if male employee, then 5% bonus; if female employee, then 10% bonus; and if salary < 10000, then additional 2% bonus\n",
    "\n",
    "salary = int(input(\"Enter the salary: \"))\n",
    "gender = input(\"Enter m for male and f for female: \")\n",
    "\n",
    "if(gender == 'm'):\n",
    "    bonus = 0.05*salary\n",
    "    sal = salary + bonus\n",
    "else:\n",
    "    bonus = 0.1*salary\n",
    "    sal = bonus + salary\n",
    "\n",
    "if(salary<10000):\n",
    "    addBonus = 0.02 * sal\n",
    "    sal = sal + addBonus\n",
    "\n",
    "print(\"Salary including Bonus: \", sal)"
   ]
  },
  {
   "cell_type": "code",
   "execution_count": null,
   "metadata": {},
   "outputs": [],
   "source": []
  }
 ],
 "metadata": {
  "kernelspec": {
   "display_name": "Python 3",
   "language": "python",
   "name": "python3"
  },
  "language_info": {
   "codemirror_mode": {
    "name": "ipython",
    "version": 3
   },
   "file_extension": ".py",
   "mimetype": "text/x-python",
   "name": "python",
   "nbconvert_exporter": "python",
   "pygments_lexer": "ipython3",
   "version": "3.12.0"
  }
 },
 "nbformat": 4,
 "nbformat_minor": 2
}
